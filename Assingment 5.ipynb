{
 "cells": [
  {
   "cell_type": "code",
   "execution_count": null,
   "id": "b0930b30-0787-4284-a814-53e676089ca9",
   "metadata": {},
   "outputs": [],
   "source": [
    "#Answer:1\n",
    "Object − Objects have states and behaviors. Example: A dog has states - color, name, breed as well as behaviors – wagging the tail, barking, eating. An object is an instance of a class. Class − A class can be defined as a template/blueprint that describes the behavior/state that the object of its type support."
   ]
  },
  {
   "cell_type": "code",
   "execution_count": null,
   "id": "541b74f6-3ffe-4457-bacf-7b3b665ac120",
   "metadata": {},
   "outputs": [],
   "source": [
    "#Answer:2\n",
    "The four pillars for OOP are:\n",
    "Abstraction.\n",
    "Encapsulation.\n",
    "Inheritance.\n",
    "Polymorphism."
   ]
  },
  {
   "cell_type": "code",
   "execution_count": null,
   "id": "e79ce7a0-b4df-4f6b-a167-f1c14282d862",
   "metadata": {},
   "outputs": [],
   "source": [
    "#Answer:3\n",
    "The __init__ method lets the class initialize the object's attributes and serves no other purpose. It is only used within classes.\n",
    " when you create a new object, Python automatically calls the __new__ method, which in turn calls the __init__ method."
   ]
  },
  {
   "cell_type": "code",
   "execution_count": null,
   "id": "2935936f-ce95-434b-ad0c-94d000c4f2ae",
   "metadata": {},
   "outputs": [],
   "source": [
    "#Answer:4\n",
    "The self variable is used to represent the instance of the class which is often used in object-oriented programming. It works as a reference to the object. Python uses the self parameter to refer to instance attributes and methods of the class."
   ]
  },
  {
   "cell_type": "code",
   "execution_count": null,
   "id": "d5e790ca-e1f5-4d8e-be2a-50e63b7e1d6c",
   "metadata": {},
   "outputs": [],
   "source": []
  }
 ],
 "metadata": {
  "kernelspec": {
   "display_name": "Python 3 (ipykernel)",
   "language": "python",
   "name": "python3"
  },
  "language_info": {
   "codemirror_mode": {
    "name": "ipython",
    "version": 3
   },
   "file_extension": ".py",
   "mimetype": "text/x-python",
   "name": "python",
   "nbconvert_exporter": "python",
   "pygments_lexer": "ipython3",
   "version": "3.10.6"
  }
 },
 "nbformat": 4,
 "nbformat_minor": 5
}
